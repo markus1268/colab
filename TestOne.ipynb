{
  "nbformat": 4,
  "nbformat_minor": 0,
  "metadata": {
    "colab": {
      "name": "TestOne.ipynb",
      "provenance": [],
      "collapsed_sections": [],
      "authorship_tag": "ABX9TyMCPiCqnESsxqMxwWlUbtLo",
      "include_colab_link": true
    },
    "kernelspec": {
      "name": "python3",
      "display_name": "Python 3"
    }
  },
  "cells": [
    {
      "cell_type": "markdown",
      "metadata": {
        "id": "view-in-github",
        "colab_type": "text"
      },
      "source": [
        "<a href=\"https://colab.research.google.com/github/markus1268/colab/blob/master/TestOne.ipynb\" target=\"_parent\"><img src=\"https://colab.research.google.com/assets/colab-badge.svg\" alt=\"Open In Colab\"/></a>"
      ]
    },
    {
      "cell_type": "markdown",
      "metadata": {
        "id": "Y5a6pEDTXg_A",
        "colab_type": "text"
      },
      "source": [
        "[![Open In Colab](https://colab.research.google.com/assets/colab-badge.svg)](https://colab.research.google.com/github/markus1268/colab/blob/master/TestOne.ipynb)\n",
        "\n",
        "Test Colab using github"
      ]
    },
    {
      "cell_type": "code",
      "metadata": {
        "id": "KMZXcTrhXELw",
        "colab_type": "code",
        "colab": {
          "base_uri": "https://localhost:8080/",
          "height": 87
        },
        "outputId": "ccb7de30-4c36-4ff7-8fbd-d644e6ee792e"
      },
      "source": [
        "fruits = ['melon', 'tomato', 'orange', 'apple']\n",
        "for fruit in fruits:\n",
        "  print(fruit)"
      ],
      "execution_count": 1,
      "outputs": [
        {
          "output_type": "stream",
          "text": [
            "melon\n",
            "tomato\n",
            "orange\n",
            "apple\n"
          ],
          "name": "stdout"
        }
      ]
    }
  ]
}